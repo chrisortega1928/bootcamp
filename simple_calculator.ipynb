{
  "nbformat": 4,
  "nbformat_minor": 0,
  "metadata": {
    "colab": {
      "name": "simple_calculator.ipynb",
      "provenance": [],
      "collapsed_sections": [],
      "authorship_tag": "ABX9TyMbrL+GlLzQD8irCgmmlq5J",
      "include_colab_link": true
    },
    "kernelspec": {
      "name": "python3",
      "display_name": "Python 3"
    },
    "language_info": {
      "name": "python"
    }
  },
  "cells": [
    {
      "cell_type": "markdown",
      "metadata": {
        "id": "view-in-github",
        "colab_type": "text"
      },
      "source": [
        "<a href=\"https://colab.research.google.com/github/chrisortega1928/bootcamp/blob/main/simple_calculator.ipynb\" target=\"_parent\"><img src=\"https://colab.research.google.com/assets/colab-badge.svg\" alt=\"Open In Colab\"/></a>"
      ]
    },
    {
      "cell_type": "code",
      "source": [
        "operation = input('''\n",
        "Please type in the math operation you would like to complete:\n",
        "+ for addition\n",
        "- for subtraction\n",
        "* for multiplication\n",
        "/ for division\n",
        "''')\n",
        "#variable named operation is assigned to an input prompt asking user for type of operation\n",
        "\n",
        "number_1 = int(input('Enter your first number: '))\n",
        "#In this line, prompt the user for first number\n",
        "\n",
        "number_2 = int(input('Enter your second number: '))\n",
        "#In this line, prompt the user for second number\n",
        "\n",
        "if operation == '+':\n",
        "    print(f'{number_1} + {number_2} = ')\n",
        "    print(number_1 + number_2)\n",
        "#if operation from user is +, then add the two numbers\n",
        "\n",
        "elif operation == '-':\n",
        "    print(f'{number_1} - {number_2} = ')\n",
        "    print(number_1 - number_2)\n",
        "#if operation from user is -, then subtract the two numbers\n",
        "\n",
        "elif operation == '*':\n",
        "    print(f'{number_1} * {number_2} = ')\n",
        "    print(number_1 * number_2)\n",
        "#if operation from user is *, then multiply the two numbers\n",
        "\n",
        "elif operation == '/':\n",
        "    print(f'{number_1} / {number_2} = ')\n",
        "    print(number_1 / number_2)\n",
        "#if operation from user is /, then divide the two numbers\n",
        "\n",
        "else:\n",
        "    print('You have not typed a valid operator, please run the program')\n",
        "#if user did not type in a valid operator, then this line will execute and no calculation takes place"
      ],
      "metadata": {
        "colab": {
          "base_uri": "https://localhost:8080/"
        },
        "id": "-6TCnniLvnKc",
        "outputId": "db747307-9498-4cc3-c517-f9001badaa9c"
      },
      "execution_count": 7,
      "outputs": [
        {
          "output_type": "stream",
          "name": "stdout",
          "text": [
            "\n",
            "Please type in the math operation you would like to complete:\n",
            "+ for addition\n",
            "- for subtraction\n",
            "* for multiplication\n",
            "/ for division\n",
            "/\n",
            "Enter your first number: 9\n",
            "Enter your second number: 4\n",
            "9 / 4 = \n",
            "2.25\n"
          ]
        }
      ]
    },
    {
      "cell_type": "code",
      "source": [
        ""
      ],
      "metadata": {
        "id": "kUhGLFfcxwyK"
      },
      "execution_count": null,
      "outputs": []
    }
  ]
}